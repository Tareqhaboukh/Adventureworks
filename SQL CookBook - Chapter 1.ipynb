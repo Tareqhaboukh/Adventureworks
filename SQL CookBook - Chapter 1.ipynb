{
    "metadata": {
        "kernelspec": {
            "name": "SQL",
            "display_name": "SQL",
            "language": "sql"
        },
        "language_info": {
            "name": "sql",
            "version": ""
        }
    },
    "nbformat_minor": 2,
    "nbformat": 4,
    "cells": [
        {
            "cell_type": "code",
            "source": [
                "select *\r\n",
                "from emp\r\n",
                "where deptno = 10\r\n",
                "    or comm is not NULL\r\n",
                "    or sal <= 2000 and deptno=20;"
            ],
            "metadata": {
                "language": "sql",
                "azdata_cell_guid": "94fc9909-fce3-4ce1-bb68-c7df3d5e636a"
            },
            "outputs": [],
            "execution_count": null
        },
        {
            "cell_type": "code",
            "source": [
                "select *\r\n",
                "from emp\r\n",
                "where (deptno = 10\r\n",
                "    or comm is not NULL\r\n",
                "    or sal <= 2000\r\n",
                "    )\r\n",
                "    and deptno=20;"
            ],
            "metadata": {
                "language": "sql",
                "azdata_cell_guid": "0ce4aab7-008b-42bd-b662-007da2aa5560"
            },
            "outputs": [],
            "execution_count": null
        },
        {
            "cell_type": "code",
            "source": [
                "select *\r\n",
                "from (\r\n",
                "select sal as salary, comm as commission\r\n",
                "from emp\r\n",
                ") x\r\n",
                "where salary < 5000\r\n",
                ""
            ],
            "metadata": {
                "azdata_cell_guid": "1d706d47-50e4-47e2-a42d-f793eca76f4c",
                "language": "sql",
                "tags": []
            },
            "outputs": [],
            "execution_count": null
        },
        {
            "cell_type": "code",
            "source": [
                "select ename +' WORKS AS A '+ job as msg\r\n",
                "from emp\r\n",
                "where deptno=10"
            ],
            "metadata": {
                "language": "sql",
                "azdata_cell_guid": "fafc50ce-99ee-42bd-832b-8d6a2efa8289",
                "tags": [
                    "hide_input"
                ]
            },
            "outputs": [],
            "execution_count": null
        },
        {
            "cell_type": "code",
            "source": [
                "select ename, sal, \r\n",
                "    case \r\n",
                "        when sal <= 2000 then 'UNDERPAID'\r\n",
                "        when sal >= 4000 then 'OVERPAID'\r\n",
                "    else 'OK'\r\n",
                "    end as status\r\n",
                "from emp"
            ],
            "metadata": {
                "azdata_cell_guid": "e4c503a3-e77c-4541-a025-fe85987d7610",
                "language": "sql",
                "tags": [
                    "hide_input"
                ]
            },
            "outputs": [],
            "execution_count": null
        },
        {
            "cell_type": "code",
            "source": [
                "select top 5 * \r\n",
                "from emp;"
            ],
            "metadata": {
                "language": "sql",
                "azdata_cell_guid": "f7be73ed-b596-4e68-be3c-514355507faf"
            },
            "outputs": [],
            "execution_count": null
        },
        {
            "cell_type": "code",
            "source": [
                "select top 5 ename, job\r\n",
                "from emp\r\n",
                "order by newid();"
            ],
            "metadata": {
                "language": "sql",
                "azdata_cell_guid": "0b61e3c0-a7b1-402b-b6dd-5d98debef436"
            },
            "outputs": [],
            "execution_count": null
        },
        {
            "cell_type": "code",
            "source": [
                "select *\r\n",
                "from emp\r\n",
                "where comm is null;"
            ],
            "metadata": {
                "language": "sql",
                "azdata_cell_guid": "099c6757-5548-48e1-9385-303d997fbdb0"
            },
            "outputs": [],
            "execution_count": null
        },
        {
            "cell_type": "code",
            "source": [
                "select coalesce(comm,0)\r\n",
                "from emp"
            ],
            "metadata": {
                "language": "sql",
                "azdata_cell_guid": "1ce3501c-9f89-439f-85ae-79f5f85f14c2"
            },
            "outputs": [],
            "execution_count": null
        },
        {
            "cell_type": "code",
            "source": [
                "select ename, job\r\n",
                "from emp\r\n",
                "where deptno in (10,20)\r\n",
                "    and (ename like '%i%' or job like '%er')"
            ],
            "metadata": {
                "language": "sql",
                "azdata_cell_guid": "789104fa-9438-498f-8077-b91ef9894ebe"
            },
            "outputs": [],
            "execution_count": null
        }
    ]
}