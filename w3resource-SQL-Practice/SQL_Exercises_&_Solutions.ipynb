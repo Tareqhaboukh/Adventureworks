{
    "metadata": {
        "kernelspec": {
            "name": "SQL",
            "display_name": "SQL",
            "language": "sql"
        },
        "language_info": {
            "name": "sql",
            "version": ""
        }
    },
    "nbformat_minor": 2,
    "nbformat": 4,
    "cells": [
        {
            "cell_type": "markdown",
            "source": [
                "## [SQL Exercises & Solutions](w3resource-SQL-Practice/SQL_Exercises_&_Solutions.ipynb)\n",
                "25 out of 81 (Excersises can be found on [w3resource.com](https://www.w3resource.com/sql-exercises/adventureworks/adventureworks-exercises.php))\n",
                "\n",
                "![30](https://progress-bar.dev/30)"
            ],
            "metadata": {
                "language": "sql",
                "azdata_cell_guid": "be97bb02-bf8c-48e7-ba37-f97616b6f04f"
            },
            "attachments": {}
        },
        {
            "cell_type": "markdown",
            "source": [
                "### Exercise 1\n",
                "\n",
                "From the following table write a query in SQL to retrieve all rows and columns from the employee table in the Adventureworks database. Sort the result set in ascending order on jobtitle.\n",
                "\n",
                "Sample table:\n",
                "\n",
                "humanresources.employee"
            ],
            "metadata": {
                "language": "sql",
                "azdata_cell_guid": "0d5df183-8b84-41ae-9f47-798bc4284d2d"
            },
            "attachments": {}
        },
        {
            "cell_type": "code",
            "source": [
                "SELECT *\r\n",
                "FROM humanresources.employee\r\n",
                "ORDER BY JobTitle;"
            ],
            "metadata": {
                "azdata_cell_guid": "ef0a2e54-236d-45b4-8f83-bdcdd7f25a60",
                "language": "sql",
                "tags": []
            },
            "outputs": [],
            "execution_count": null
        },
        {
            "cell_type": "markdown",
            "source": [
                "### Exercise 2\n",
                "\n",
                "From the following table write a query in SQL to retrieve all rows and columns from the employee table using table aliasing in the Adventureworks database. Sort the output in ascending order on lastname.\n",
                "\n",
                "Sample table:\n",
                "\n",
                "person.person"
            ],
            "metadata": {
                "language": "sql",
                "azdata_cell_guid": "f1a1cab6-5534-4de8-ba49-adb231b9d24a"
            },
            "attachments": {}
        },
        {
            "cell_type": "code",
            "source": [
                "SELECT Q2.*\r\n",
                "FROM Person.Person AS Q2\r\n",
                "ORDER BY LastName;"
            ],
            "metadata": {
                "language": "sql",
                "azdata_cell_guid": "e1e2e747-7ac7-4efe-9180-a9507a90f6a6"
            },
            "outputs": [],
            "execution_count": null
        },
        {
            "cell_type": "markdown",
            "source": [
                "### Exercise 3\n",
                "\n",
                "From the following table write a query in SQL to return all rows and a subset of the columns (FirstName, LastName, businessentityid) from the person table in the AdventureWorks database. The third column heading is renamed to Employee\\_id. Arranged the output in ascending order by lastname.\n",
                "\n",
                "Sample table:\n",
                "\n",
                "person.person"
            ],
            "metadata": {
                "language": "sql",
                "azdata_cell_guid": "ec75896a-b8f1-49b9-81cc-3c0fde0fe97d"
            },
            "attachments": {}
        },
        {
            "cell_type": "code",
            "source": [
                "SELECT FirstName\r\n",
                "    , LastName\r\n",
                "    , BusinessEntityID AS Employee_id\r\n",
                "FROM Person.Person\r\n",
                "ORDER BY LastName;"
            ],
            "metadata": {
                "language": "sql",
                "azdata_cell_guid": "ce5b864f-12e9-4070-86db-10e8c30e94f7"
            },
            "outputs": [],
            "execution_count": null
        },
        {
            "cell_type": "markdown",
            "source": [
                "### Exercise 4\n",
                "\n",
                "From the following table write a query in SQL to return only the rows for product that have a sellstartdate that is not NULL and a productline of 'T'. Return productid, productnumber, and name. Arranged the output in ascending order on name.\n",
                "\n",
                "Sample table:\n",
                "\n",
                "production.product"
            ],
            "metadata": {
                "azdata_cell_guid": "7935b77d-0fe1-47a5-aea2-87d561ef1e61"
            },
            "attachments": {}
        },
        {
            "cell_type": "code",
            "source": [
                "SELECT ProductID\r\n",
                "    , ProductNumber\r\n",
                "    , Name\r\n",
                "FROM Production.Product\r\n",
                "WHERE SellStartDate IS NOT NULL\r\n",
                "    AND ProductLine = 'T'\r\n",
                "ORDER BY Name;"
            ],
            "metadata": {
                "azdata_cell_guid": "5045c59f-121b-4a76-a863-9e457d8ce877",
                "language": "sql"
            },
            "outputs": [],
            "execution_count": null
        },
        {
            "cell_type": "markdown",
            "source": [
                "### Exercise 5\n",
                "\n",
                "From the following table write a query in SQL to return all rows from the salesorderheader table in Adventureworks database and calculate the percentage of tax on the subtotal have decided. Return salesorderid, customerid, orderdate, subtotal, percentage of tax column. Arranged the result set in ascending order on subtotal.\n",
                "\n",
                "Sample table:\n",
                "\n",
                "sales.salesorderheader"
            ],
            "metadata": {
                "language": "sql",
                "azdata_cell_guid": "41634ff6-964f-43aa-a28d-d4c62d9f45fc"
            },
            "attachments": {}
        },
        {
            "cell_type": "code",
            "source": [
                "SELECT SalesOrderID\r\n",
                "    , CustomerID\r\n",
                "    , OrderDate\r\n",
                "    , SubTotal\r\n",
                "    , (TaxAmt / SubTotal) * 100 AS TaxPercent\r\n",
                "FROM Sales.SalesOrderHeader\r\n",
                "ORDER BY SubTotal DESC;"
            ],
            "metadata": {
                "language": "sql",
                "azdata_cell_guid": "e28347bf-e4ce-4dd7-abc5-d81648d9af22"
            },
            "outputs": [],
            "execution_count": null
        },
        {
            "cell_type": "markdown",
            "source": [
                "### Exercise 6\n",
                "\n",
                "From the following table write a query in SQL to create a list of unique jobtitles in the employee table in Adventureworks database. Return jobtitle column and arranged the resultset in ascending order.\n",
                "\n",
                "Sample table:\n",
                "\n",
                "humanresources.employee"
            ],
            "metadata": {
                "language": "sql",
                "azdata_cell_guid": "b334c1e7-e35d-430a-af87-b0b58dec4fe2"
            },
            "attachments": {}
        },
        {
            "cell_type": "code",
            "source": [
                "SELECT DISTINCT JobTitle\r\n",
                "FROM HumanResources.Employee\r\n",
                "ORDER BY JobTitle;"
            ],
            "metadata": {
                "language": "sql",
                "azdata_cell_guid": "f7186c0d-0522-4bdc-b356-6b8d65be3eb1"
            },
            "outputs": [],
            "execution_count": null
        },
        {
            "cell_type": "markdown",
            "source": [
                "### Exercise 7\n",
                "\n",
                "From the following table write a query in SQL to calculate the total freight paid by each customer. Return customerid and total freight. Sort the output in ascending order on customerid.\n",
                "\n",
                "Sample table:\n",
                "\n",
                "sales.salesorderheader"
            ],
            "metadata": {
                "language": "sql",
                "azdata_cell_guid": "fe2cb772-ff93-4ae4-ad78-f45c2b7c2e4a"
            },
            "attachments": {}
        },
        {
            "cell_type": "code",
            "source": [
                "SELECT CustomerID\r\n",
                "    , SUM(Freight) AS TotalFreight\r\n",
                "FROM Sales.SalesOrderHeader\r\n",
                "GROUP BY CustomerID\r\n",
                "ORDER BY CustomerID;"
            ],
            "metadata": {
                "language": "sql",
                "azdata_cell_guid": "de83b47a-56a1-44e9-b9ec-b22727d19b02",
                "tags": []
            },
            "outputs": [],
            "execution_count": null
        },
        {
            "cell_type": "markdown",
            "source": [
                "### Exercise 8\n",
                "\n",
                "From the following table write a query in SQL to find the average and the sum of the subtotal for every customer. Return customerid, average and sum of the subtotal. Grouped the result on customerid and salespersonid. Sort the result on customerid column in descending order.\n",
                "\n",
                "Sample table:\n",
                "\n",
                "sales.salesorderheader"
            ],
            "metadata": {
                "language": "sql",
                "azdata_cell_guid": "879ea46b-1005-46c2-be12-8301de6aa597"
            },
            "attachments": {}
        },
        {
            "cell_type": "code",
            "source": [
                "SELECT CustomerID\r\n",
                "    , SalesPersonID\r\n",
                "    , AVG(SubTotal) AS AvgSubTotal\r\n",
                "    , SUM(SubTotal) AS SumSubTotal\r\n",
                "FROM Sales.SalesOrderHeader\r\n",
                "GROUP BY CustomerID\r\n",
                "    , SalesPersonID\r\n",
                "ORDER BY CustomerID DESC;"
            ],
            "metadata": {
                "language": "sql",
                "azdata_cell_guid": "0dcc8313-09bc-44e5-afb3-b6787c9e587d"
            },
            "outputs": [],
            "execution_count": null
        },
        {
            "cell_type": "markdown",
            "source": [
                "### Exercise 9\n",
                "\n",
                "From the following table write a query in SQL to retrieve total quantity of each productid which are in shelf of 'A' or 'C' or 'H'. Filter the results for sum quantity is more than 500. Return productid and sum of the quantity. Sort the results according to the productid in ascending order.\n",
                "\n",
                "Sample table:\n",
                "\n",
                "production.productinventory"
            ],
            "metadata": {
                "language": "sql",
                "azdata_cell_guid": "9c9c6649-aa12-422f-9767-527037692d10"
            },
            "attachments": {}
        },
        {
            "cell_type": "code",
            "source": [
                "SELECT ProductID\r\n",
                "    , SUM(Quantity) AS TotalQuantity\r\n",
                "FROM Production.ProductInventory\r\n",
                "WHERE Shelf IN ('A', 'C', 'H')\r\n",
                "GROUP BY ProductID\r\n",
                "HAVING SUM(Quantity) > 500\r\n",
                "ORDER BY ProductID;"
            ],
            "metadata": {
                "language": "sql",
                "azdata_cell_guid": "f551d2d2-63b7-4d8e-b64c-e17244464d08"
            },
            "outputs": [],
            "execution_count": null
        },
        {
            "cell_type": "markdown",
            "source": [
                "### Exercise 10\n",
                "\n",
                "From the following table write a query in SQL to find the total quantity for a group of locationid multiplied by 10.\n",
                "\n",
                "Sample table:\n",
                "\n",
                "production.productinventory"
            ],
            "metadata": {
                "language": "sql",
                "azdata_cell_guid": "bbf8574b-fe2b-4edb-b2d3-cee1e0be41c0"
            },
            "attachments": {}
        },
        {
            "cell_type": "code",
            "source": [
                "SELECT SUM(Quantity) AS TotalQuantity\r\n",
                "FROM Production.ProductInventory\r\n",
                "GROUP BY (LocationID * 10);"
            ],
            "metadata": {
                "language": "sql",
                "azdata_cell_guid": "2ac197a4-c74f-4eca-9786-04bc54405288",
                "tags": []
            },
            "outputs": [],
            "execution_count": null
        },
        {
            "cell_type": "markdown",
            "source": [
                "### Exercise 11\n",
                "\n",
                "From the following tables write a query in SQL to find the persons whose last name starts with letter 'L'. Return BusinessEntityID, FirstName, LastName, and PhoneNumber. Sort the result on lastname and firstname.\n",
                "\n",
                "Sample table:\n",
                "\n",
                "Person.PersonPhone"
            ],
            "metadata": {
                "azdata_cell_guid": "7c06f676-2f2b-46e1-866a-f502f9d0b36e"
            },
            "attachments": {}
        },
        {
            "cell_type": "code",
            "source": [
                "SELECT PH.BusinessEntityID\r\n",
                "    , P.FirstName\r\n",
                "    , P.LastName\r\n",
                "    , PH.PhoneNumber\r\n",
                "FROM Person.PersonPhone AS PH\r\n",
                "JOIN Person.Person AS P\r\n",
                "    ON PH.BusinessEntityID = P.BusinessEntityID\r\n",
                "WHERE P.LastName LIKE 'L%'\r\n",
                "ORDER BY P.LastName\r\n",
                "    , P.FirstName;"
            ],
            "metadata": {
                "azdata_cell_guid": "76a6244e-32fe-4e2a-add4-ad20ec221e82",
                "language": "sql",
                "tags": []
            },
            "outputs": [],
            "execution_count": null
        },
        {
            "cell_type": "markdown",
            "source": [
                "### Exercise 12\n",
                "\n",
                "From the following table write a query in SQL to find the sum of subtotal column. Group the sum on distinct salespersonid and customerid. Rolls up the results into subtotal and running total. Return salespersonid, customerid and sum of subtotal column i.e. sum\\_subtotal.\n",
                "\n",
                "Sample table:\n",
                "\n",
                "sales.salesorderheader"
            ],
            "metadata": {
                "azdata_cell_guid": "703f7c98-4013-40a6-bfb8-8ecc7f25c0e3"
            },
            "attachments": {}
        },
        {
            "cell_type": "code",
            "source": [
                "SELECT SalesPersonID\r\n",
                "    , CustomerID\r\n",
                "    , SUM(SubTotal) AS SumSubTotal\r\n",
                "FROM sales.salesorderheader\r\n",
                "WHERE SalesPersonID IS NOT NULL\r\n",
                "GROUP BY ROLLUP(SalesPersonID, CustomerID);"
            ],
            "metadata": {
                "azdata_cell_guid": "161e77be-b909-46ba-bac9-6e9924145e67",
                "language": "sql",
                "tags": []
            },
            "outputs": [],
            "execution_count": null
        },
        {
            "cell_type": "markdown",
            "source": [
                "### Exercise 13\n",
                "\n",
                "From the following table write a query in SQL to find the sum of the quantity of all combination of group of distinct locationid and shelf column. Return locationid, shelf and sum of quantity as TotalQuantity.\n",
                "\n",
                "Sample table:\n",
                "\n",
                "production.productinventory"
            ],
            "metadata": {
                "azdata_cell_guid": "9c084569-5942-4416-9a4f-20a0f9e42e53"
            },
            "attachments": {}
        },
        {
            "cell_type": "code",
            "source": [
                "SELECT LocationID\r\n",
                "    , Shelf\r\n",
                "    , SUM(Quantity) AS TotalQuantity\r\n",
                "FROM production.productinventory\r\n",
                "GROUP BY CUBE(LocationID, Shelf);"
            ],
            "metadata": {
                "azdata_cell_guid": "87d9cdd0-3e06-4340-856b-a52851ee2862",
                "language": "sql",
                "tags": []
            },
            "outputs": [],
            "execution_count": null
        },
        {
            "cell_type": "markdown",
            "source": [
                "### Exercise 14\n",
                "\n",
                "From the following table write a query in SQL to find the sum of the quantity with subtotal for each locationid. Group the results for all combination of distinct locationid and shelf column. Rolls up the results into subtotal and running total. Return locationid, shelf and sum of quantity as TotalQuantity.\n",
                "\n",
                "Sample table:\n",
                "\n",
                "production.productinventory"
            ],
            "metadata": {
                "azdata_cell_guid": "05f9f19d-a536-4662-9294-5bb865644338"
            },
            "attachments": {}
        },
        {
            "cell_type": "code",
            "source": [
                "SELECT LocationID\r\n",
                "    , Shelf\r\n",
                "    , SUM(Quantity) AS TotalQuantity\r\n",
                "FROM production.productinventory\r\n",
                "GROUP BY GROUPING SETS(ROLLUP(LocationID, Shelf), CUBE(LocationID, Shelf));"
            ],
            "metadata": {
                "azdata_cell_guid": "f0b3ea68-d698-4af7-9a48-e071b12ecbb5",
                "language": "sql"
            },
            "outputs": [],
            "execution_count": null
        },
        {
            "cell_type": "markdown",
            "source": [
                "### Exercise 15\n",
                "\n",
                "From the following table write a query in SQL to find the total quantity for each locationid and calculate the grand-total for all locations. Return locationid and total quantity. Group the results on locationid.\n",
                "\n",
                "Sample table:\n",
                "\n",
                "production.productinventory"
            ],
            "metadata": {
                "azdata_cell_guid": "ce434456-5a45-4078-b3ef-f56d66ba5424"
            },
            "attachments": {}
        },
        {
            "cell_type": "code",
            "source": [
                "SELECT locationid\r\n",
                "    , SUM(quantity) AS TotalQuantity\r\n",
                "FROM production.productinventory\r\n",
                "GROUP BY GROUPING SETS(locationid, ());"
            ],
            "metadata": {
                "azdata_cell_guid": "aa544610-20c5-4c50-aec1-651f3350fd52",
                "language": "sql"
            },
            "outputs": [],
            "execution_count": null
        },
        {
            "cell_type": "markdown",
            "source": [
                "### Exercise 16\n",
                "\n",
                "From the following table write a query in SQL to retrieve the number of employees for each City. Return city and number of employees. Sort the result in ascending order on city.\n",
                "\n",
                "Sample table: \n",
                "- Person.BusinessEntityAddress\n",
                "- Person.Address"
            ],
            "metadata": {
                "azdata_cell_guid": "53fd3b46-de56-4d57-ae95-db6f99a3fbcb"
            },
            "attachments": {}
        },
        {
            "cell_type": "code",
            "source": [
                "SELECT A.city\r\n",
                "    , COUNT(BA.BusinessEntityID) AS NumberOfEmployees\r\n",
                "FROM Person.BusinessEntityAddress BA\r\n",
                "JOIN Person.Address AS A\r\n",
                "    ON BA.AddressID = A.AddressID\r\n",
                "GROUP BY A.City\r\n",
                "ORDER BY A.City;"
            ],
            "metadata": {
                "azdata_cell_guid": "23cf5dd7-a05d-4f26-ab47-3af21fa96afe",
                "language": "sql"
            },
            "outputs": [],
            "execution_count": null
        },
        {
            "cell_type": "markdown",
            "source": [
                "### Exercise 17\n",
                "\n",
                "From the following table write a query in SQL to retrieve the total sales for each year. Return the year part of order date and total due amount. Sort the result in ascending order on year part of order date.\n",
                "\n",
                "Sample table:\n",
                "\n",
                "Sales.SalesOrderHeader"
            ],
            "metadata": {
                "azdata_cell_guid": "ea806d55-f76f-4266-aa56-e1c556db63be"
            },
            "attachments": {}
        },
        {
            "cell_type": "code",
            "source": [
                "SELECT YEAR(OrderDate) AS Year\r\n",
                "    , SUM(TotalDue) AS TotalDueAmount\r\n",
                "FROM Sales.SalesOrderHeader\r\n",
                "GROUP BY YEAR(OrderDate)\r\n",
                "ORDER BY YEAR(OrderDate);"
            ],
            "metadata": {
                "azdata_cell_guid": "71a0bc43-b89e-4a8d-8197-43b367213e99",
                "language": "sql"
            },
            "outputs": [],
            "execution_count": null
        },
        {
            "cell_type": "markdown",
            "source": [
                "### Exercise 18\n",
                "\n",
                "From the following table write a query in SQL to retrieve the total sales for each year. Filter the result set for those orders where order year is on or before 2016. Return the year part of orderdate and total due amount. Sort the result in ascending order on year part of order date.\n",
                "\n",
                "Sample table:\n",
                "\n",
                "Sales.SalesOrderHeader"
            ],
            "metadata": {
                "azdata_cell_guid": "f378004e-2e9c-4f12-a75e-f4e8d78a9a6f"
            },
            "attachments": {}
        },
        {
            "cell_type": "code",
            "source": [
                "SELECT DATEPART(YEAR, OrderDate) AS Year\r\n",
                "    , SUM(TotalDue) TotalDueAmount\r\n",
                "FROM Sales.SalesOrderHeader\r\n",
                "WHERE DATEPART(YEAR, OrderDate) <= 2016\r\n",
                "GROUP BY DATEPART(YEAR, OrderDate)\r\n",
                "ORDER BY DATEPART(YEAR, OrderDate);"
            ],
            "metadata": {
                "azdata_cell_guid": "bddbb6fb-6698-4e4c-b0f4-9eb6f19ff960",
                "language": "sql"
            },
            "outputs": [],
            "execution_count": null
        },
        {
            "cell_type": "markdown",
            "source": [
                "### Exercise 19\n",
                "\n",
                "From the following table write a query in SQL to find the contacts who are designated as a manager in various departments. Returns ContactTypeID, name. Sort the result set in descending order.\n",
                "\n",
                "Sample table:\n",
                "\n",
                "Person.ContactType"
            ],
            "metadata": {
                "azdata_cell_guid": "d4767838-77dc-4dda-982e-7ad5147ec38d"
            },
            "attachments": {}
        },
        {
            "cell_type": "code",
            "source": [
                "SELECT ContactTypeID\r\n",
                "    , Name\r\n",
                "FROM Person.ContactType\r\n",
                "WHERE Name LIKE '%Manager%'\r\n",
                "ORDER BY ContactTypeID DESC;"
            ],
            "metadata": {
                "azdata_cell_guid": "dc08c900-7a53-4a53-830a-0600ba13a265",
                "language": "sql",
                "tags": []
            },
            "outputs": [],
            "execution_count": null
        },
        {
            "cell_type": "markdown",
            "source": [
                "### Exercise 20\n",
                "\n",
                "From the following tables write a query in SQL to make a list of contacts who are designated as 'Purchasing Manager'. Return BusinessEntityID, LastName, and FirstName columns. Sort the result set in ascending order of LastName, and FirstName.\n",
                "\n",
                "Sample table:\n",
                "- Person.BusinessEntityContact\n",
                "- Person.ContactType\n",
                "- Person.Person"
            ],
            "metadata": {
                "azdata_cell_guid": "94133ab4-56d8-4819-9271-13a1ecdcde20"
            },
            "attachments": {}
        },
        {
            "cell_type": "code",
            "source": [
                "SELECT BEC.BusinessEntityID\r\n",
                "    , P.LastName\r\n",
                "    , P.FirstName\r\n",
                "FROM Person.BusinessEntityContact AS BEC\r\n",
                "INNER JOIN Person.ContactType AS CT\r\n",
                "    ON BEC.ContactTypeID = CT.ContactTypeID\r\n",
                "INNER JOIN Person.Person AS P\r\n",
                "    ON BEC.PersonID = P.BusinessEntityID\r\n",
                "WHERE CT.Name = 'Purchasing Manager'\r\n",
                "ORDER BY P.LastName\r\n",
                "    , P.FirstName"
            ],
            "metadata": {
                "azdata_cell_guid": "6b6559a8-d3ec-4c01-a14a-857e30e9207e",
                "language": "sql",
                "tags": []
            },
            "outputs": [],
            "execution_count": null
        },
        {
            "cell_type": "markdown",
            "source": [
                "### Exercise 21\n",
                "\n",
                "From the following tables write a query in SQL to retrieve the salesperson for each PostalCode who belongs to a territory and SalesYTD is not zero. Return row numbers of each group of PostalCode, last name, salesytd, postalcode column. Sort the salesytd of each postalcode group in descending order. Shorts the postalcode in ascending order.\n",
                "\n",
                "Sample tables:\n",
                "\n",
                "- Sales.SalesPerson\n",
                "- Person.Person\n",
                "- Person.Address"
            ],
            "metadata": {
                "language": "sql",
                "azdata_cell_guid": "8d8e9efc-8429-4046-864c-5cf58fe25a89"
            },
            "attachments": {}
        },
        {
            "cell_type": "code",
            "source": [
                "SELECT ROW_NUMBER() OVER (\n",
                "        PARTITION BY A.PostalCode ORDER BY SP.SalesYTD DESC\n",
                "        ) AS RowNumber\n",
                "    , P.LastName\n",
                "    , SP.SalesYTD\n",
                "    , A.PostalCode\n",
                "FROM Sales.SalesPerson AS SP\n",
                "INNER JOIN Person.Person AS P\n",
                "    ON SP.BusinessEntityID = P.BusinessEntityID\n",
                "INNER JOIN Person.Address AS A\n",
                "    ON SP.BusinessEntityID = A.AddressID\n",
                "WHERE SP.TerritoryID IS NOT NULL\n",
                "    AND SP.SalesYTD <> 0\n",
                "ORDER BY A.PostalCode;"
            ],
            "metadata": {
                "language": "sql",
                "azdata_cell_guid": "b0a36393-943d-436e-b7a0-a62b5dd581e4"
            },
            "outputs": [],
            "execution_count": null
        },
        {
            "cell_type": "markdown",
            "source": [
                "### Exercise 22\r\n",
                "From the following table write a query in SQL to count the number of contacts for combination of each type and name. Filter the output for those who have 100 or more contacts. Return ContactTypeID and ContactTypeName and BusinessEntityContact. Sort the result set in descending order on number of contacts.\r\n",
                "\r\n",
                "Sample tables:\r\n",
                "- Person.BusinessEntityContact\r\n",
                "- Person.ContactType"
            ],
            "metadata": {
                "azdata_cell_guid": "e0276100-6322-4e0d-9ca0-5941deab59f2"
            },
            "attachments": {}
        },
        {
            "cell_type": "code",
            "source": [
                "SELECT BEC.ContactTypeID\r\n",
                "        , CT.Name\r\n",
                "        , COUNT(BEC.BusinessEntityID) AS NoContacs\r\n",
                "FROM Person.BusinessEntityContact AS BEC\r\n",
                "JOIN Person.ContactType AS CT\r\n",
                "    ON BEC.ContactTypeID = CT.ContactTypeID\r\n",
                "GROUP BY BEC.ContactTypeID\r\n",
                "        , CT.Name\r\n",
                "HAVING COUNT(BEC.BusinessEntityID) > 100\r\n",
                "ORDER BY COUNT(BEC.BusinessEntityID) DESC;"
            ],
            "metadata": {
                "azdata_cell_guid": "dba044e9-1466-481e-952e-215c1df09d9c",
                "language": "sql"
            },
            "outputs": [],
            "execution_count": null
        },
        {
            "cell_type": "markdown",
            "source": [
                "### Exercise 23\r\n",
                "From the following table write a query in SQL to retrieve the RateChangeDate, full name (first name, middle name and last name) and weekly salary (40 hours in a week) of employees. In the output the RateChangeDate should appears in date format. Sort the output in ascending order on NameInFull.\r\n",
                "\r\n",
                "Sample tables:\r\n",
                "- HumanResources.EmployeePayHistory\r\n",
                "- Person.Person"
            ],
            "metadata": {
                "azdata_cell_guid": "257cc672-9b28-4315-8e21-29a953613c25"
            },
            "attachments": {}
        },
        {
            "cell_type": "code",
            "source": [
                "SELECT CONVERT(DATE, EPH.RateChangeDate, 110) AS FormDate\r\n",
                "    , CONCAT (\r\n",
                "        P.LastName\r\n",
                "        , ', '\r\n",
                "        , P.FirstName\r\n",
                "        , ' '\r\n",
                "        , P.MiddleName\r\n",
                "        ) AS NameInFull\r\n",
                "    , EPH.Rate * 40 AS SalaryInWeek\r\n",
                "FROM HumanResources.EmployeePayHistory AS EPH\r\n",
                "JOIN Person.Person AS P\r\n",
                "    ON EPH.BusinessEntityID = P.BusinessEntityID\r\n",
                "ORDER BY NameInFull;"
            ],
            "metadata": {
                "azdata_cell_guid": "532e9305-fb9e-4100-b020-9dd49a19d380",
                "language": "sql"
            },
            "outputs": [],
            "execution_count": null
        },
        {
            "cell_type": "markdown",
            "source": [
                "### Exercise 24\r\n",
                "From the following tables write a query in SQL to calculate and display the latest weekly salary of each employee. Return RateChangeDate, full name (first name, middle name and last name) and weekly salary (40 hours in a week) of employees Sort the output in ascending order on NameInFull.\r\n",
                "\r\n",
                "Sample tables:\r\n",
                "- Person.Person\r\n",
                "- HumanResources.EmployeePayHistory"
            ],
            "metadata": {
                "azdata_cell_guid": "66d066eb-7e5d-4364-b5c2-b4834ef62997"
            },
            "attachments": {}
        },
        {
            "cell_type": "code",
            "source": [
                "SELECT CONVERT(DATE, EPH.RateChangeDate, 110) AS FormDate\r\n",
                "    , CONCAT (\r\n",
                "        P.LastName\r\n",
                "        , ', '\r\n",
                "        , P.FirstName\r\n",
                "        , ' '\r\n",
                "        , P.MiddleName\r\n",
                "        ) AS NameInFull\r\n",
                "    , EPH.Rate * 40 AS SalaryInWeek\r\n",
                "FROM HumanResources.EmployeePayHistory AS EPH\r\n",
                "JOIN Person.Person AS P\r\n",
                "    ON EPH.BusinessEntityID = P.BusinessEntityID\r\n",
                "WHERE EPH.RateChangeDate = (\r\n",
                "        SELECT MAX(RateChangeDate)\r\n",
                "        FROM HumanResources.EmployeePayHistory\r\n",
                "        WHERE BusinessEntityID = EPH.BusinessEntityID\r\n",
                "        )\r\n",
                "ORDER BY NameInFull;"
            ],
            "metadata": {
                "azdata_cell_guid": "8ca259d4-c392-4b85-8eea-0d40860c1194",
                "language": "sql"
            },
            "outputs": [],
            "execution_count": null
        },
        {
            "cell_type": "markdown",
            "source": [
                "### Exercise 25\n",
                "\n",
                "From the following table write a query in SQL to find the sum, average, count, minimum, and maximum order quentity for those orders whose id are 43659 and 43664. Return SalesOrderID, ProductID, OrderQty, sum, average, count, max, and min order quantity.\n",
                "\n",
                "Sample table:\n",
                "\n",
                "Sales.SalesOrderDetail"
            ],
            "metadata": {
                "azdata_cell_guid": "f4c0f5c2-2ae5-4912-ab3c-eb1215e0aaff"
            },
            "attachments": {}
        },
        {
            "cell_type": "code",
            "source": [
                "SELECT SalesOrderID\r\n",
                "    , ProductID\r\n",
                "    , OrderQty\r\n",
                "    , COUNT(OrderQty) OVER (PARTITION BY SalesOrderID) AS CountOrderQty\r\n",
                "    , SUM(OrderQty) OVER (PARTITION BY SalesOrderID) AS SumOrderQty\r\n",
                "    , AVG(OrderQty) OVER (PARTITION BY SalesOrderID) AS AvgOrderQty\r\n",
                "    , MIN(OrderQty) OVER (PARTITION BY SalesOrderID) AS MinOrderQty\r\n",
                "    , MAX(OrderQty) OVER (PARTITION BY SalesOrderID) AS MaxOrderQty\r\n",
                "FROM Sales.SalesOrderDetail\r\n",
                "WHERE SalesOrderID IN (43659,43664);"
            ],
            "metadata": {
                "azdata_cell_guid": "552216ff-6803-449d-ab0a-7eed7a145a36",
                "language": "sql"
            },
            "outputs": [
                {
                    "output_type": "display_data",
                    "data": {
                        "text/html": "(20 rows affected)"
                    },
                    "metadata": {}
                },
                {
                    "output_type": "display_data",
                    "data": {
                        "text/html": "Total execution time: 00:00:00.014"
                    },
                    "metadata": {}
                },
                {
                    "output_type": "execute_result",
                    "execution_count": 2,
                    "data": {
                        "application/vnd.dataresource+json": {
                            "schema": {
                                "fields": [
                                    {
                                        "name": "SalesOrderID"
                                    },
                                    {
                                        "name": "ProductID"
                                    },
                                    {
                                        "name": "OrderQty"
                                    },
                                    {
                                        "name": "CountOrderQty"
                                    },
                                    {
                                        "name": "SumOrderQty"
                                    },
                                    {
                                        "name": "AvgOrderQty"
                                    },
                                    {
                                        "name": "MinOrderQty"
                                    },
                                    {
                                        "name": "MaxOrderQty"
                                    }
                                ]
                            },
                            "data": [
                                {
                                    "0": "43659",
                                    "1": "776",
                                    "2": "1",
                                    "3": "12",
                                    "4": "26",
                                    "5": "2",
                                    "6": "1",
                                    "7": "6"
                                },
                                {
                                    "0": "43659",
                                    "1": "777",
                                    "2": "3",
                                    "3": "12",
                                    "4": "26",
                                    "5": "2",
                                    "6": "1",
                                    "7": "6"
                                },
                                {
                                    "0": "43659",
                                    "1": "778",
                                    "2": "1",
                                    "3": "12",
                                    "4": "26",
                                    "5": "2",
                                    "6": "1",
                                    "7": "6"
                                },
                                {
                                    "0": "43659",
                                    "1": "771",
                                    "2": "1",
                                    "3": "12",
                                    "4": "26",
                                    "5": "2",
                                    "6": "1",
                                    "7": "6"
                                },
                                {
                                    "0": "43659",
                                    "1": "772",
                                    "2": "1",
                                    "3": "12",
                                    "4": "26",
                                    "5": "2",
                                    "6": "1",
                                    "7": "6"
                                },
                                {
                                    "0": "43659",
                                    "1": "773",
                                    "2": "2",
                                    "3": "12",
                                    "4": "26",
                                    "5": "2",
                                    "6": "1",
                                    "7": "6"
                                },
                                {
                                    "0": "43659",
                                    "1": "774",
                                    "2": "1",
                                    "3": "12",
                                    "4": "26",
                                    "5": "2",
                                    "6": "1",
                                    "7": "6"
                                },
                                {
                                    "0": "43659",
                                    "1": "714",
                                    "2": "3",
                                    "3": "12",
                                    "4": "26",
                                    "5": "2",
                                    "6": "1",
                                    "7": "6"
                                },
                                {
                                    "0": "43659",
                                    "1": "716",
                                    "2": "1",
                                    "3": "12",
                                    "4": "26",
                                    "5": "2",
                                    "6": "1",
                                    "7": "6"
                                },
                                {
                                    "0": "43659",
                                    "1": "709",
                                    "2": "6",
                                    "3": "12",
                                    "4": "26",
                                    "5": "2",
                                    "6": "1",
                                    "7": "6"
                                },
                                {
                                    "0": "43659",
                                    "1": "712",
                                    "2": "2",
                                    "3": "12",
                                    "4": "26",
                                    "5": "2",
                                    "6": "1",
                                    "7": "6"
                                },
                                {
                                    "0": "43659",
                                    "1": "711",
                                    "2": "4",
                                    "3": "12",
                                    "4": "26",
                                    "5": "2",
                                    "6": "1",
                                    "7": "6"
                                },
                                {
                                    "0": "43664",
                                    "1": "772",
                                    "2": "1",
                                    "3": "8",
                                    "4": "14",
                                    "5": "1",
                                    "6": "1",
                                    "7": "4"
                                },
                                {
                                    "0": "43664",
                                    "1": "775",
                                    "2": "4",
                                    "3": "8",
                                    "4": "14",
                                    "5": "1",
                                    "6": "1",
                                    "7": "4"
                                },
                                {
                                    "0": "43664",
                                    "1": "714",
                                    "2": "1",
                                    "3": "8",
                                    "4": "14",
                                    "5": "1",
                                    "6": "1",
                                    "7": "4"
                                },
                                {
                                    "0": "43664",
                                    "1": "716",
                                    "2": "1",
                                    "3": "8",
                                    "4": "14",
                                    "5": "1",
                                    "6": "1",
                                    "7": "4"
                                },
                                {
                                    "0": "43664",
                                    "1": "777",
                                    "2": "2",
                                    "3": "8",
                                    "4": "14",
                                    "5": "1",
                                    "6": "1",
                                    "7": "4"
                                },
                                {
                                    "0": "43664",
                                    "1": "771",
                                    "2": "3",
                                    "3": "8",
                                    "4": "14",
                                    "5": "1",
                                    "6": "1",
                                    "7": "4"
                                },
                                {
                                    "0": "43664",
                                    "1": "773",
                                    "2": "1",
                                    "3": "8",
                                    "4": "14",
                                    "5": "1",
                                    "6": "1",
                                    "7": "4"
                                },
                                {
                                    "0": "43664",
                                    "1": "778",
                                    "2": "1",
                                    "3": "8",
                                    "4": "14",
                                    "5": "1",
                                    "6": "1",
                                    "7": "4"
                                }
                            ]
                        },
                        "text/html": "<table><tr><th>SalesOrderID</th><th>ProductID</th><th>OrderQty</th><th>CountOrderQty</th><th>SumOrderQty</th><th>AvgOrderQty</th><th>MinOrderQty</th><th>MaxOrderQty</th></tr><tr><td>43659</td><td>776</td><td>1</td><td>12</td><td>26</td><td>2</td><td>1</td><td>6</td></tr><tr><td>43659</td><td>777</td><td>3</td><td>12</td><td>26</td><td>2</td><td>1</td><td>6</td></tr><tr><td>43659</td><td>778</td><td>1</td><td>12</td><td>26</td><td>2</td><td>1</td><td>6</td></tr><tr><td>43659</td><td>771</td><td>1</td><td>12</td><td>26</td><td>2</td><td>1</td><td>6</td></tr><tr><td>43659</td><td>772</td><td>1</td><td>12</td><td>26</td><td>2</td><td>1</td><td>6</td></tr><tr><td>43659</td><td>773</td><td>2</td><td>12</td><td>26</td><td>2</td><td>1</td><td>6</td></tr><tr><td>43659</td><td>774</td><td>1</td><td>12</td><td>26</td><td>2</td><td>1</td><td>6</td></tr><tr><td>43659</td><td>714</td><td>3</td><td>12</td><td>26</td><td>2</td><td>1</td><td>6</td></tr><tr><td>43659</td><td>716</td><td>1</td><td>12</td><td>26</td><td>2</td><td>1</td><td>6</td></tr><tr><td>43659</td><td>709</td><td>6</td><td>12</td><td>26</td><td>2</td><td>1</td><td>6</td></tr><tr><td>43659</td><td>712</td><td>2</td><td>12</td><td>26</td><td>2</td><td>1</td><td>6</td></tr><tr><td>43659</td><td>711</td><td>4</td><td>12</td><td>26</td><td>2</td><td>1</td><td>6</td></tr><tr><td>43664</td><td>772</td><td>1</td><td>8</td><td>14</td><td>1</td><td>1</td><td>4</td></tr><tr><td>43664</td><td>775</td><td>4</td><td>8</td><td>14</td><td>1</td><td>1</td><td>4</td></tr><tr><td>43664</td><td>714</td><td>1</td><td>8</td><td>14</td><td>1</td><td>1</td><td>4</td></tr><tr><td>43664</td><td>716</td><td>1</td><td>8</td><td>14</td><td>1</td><td>1</td><td>4</td></tr><tr><td>43664</td><td>777</td><td>2</td><td>8</td><td>14</td><td>1</td><td>1</td><td>4</td></tr><tr><td>43664</td><td>771</td><td>3</td><td>8</td><td>14</td><td>1</td><td>1</td><td>4</td></tr><tr><td>43664</td><td>773</td><td>1</td><td>8</td><td>14</td><td>1</td><td>1</td><td>4</td></tr><tr><td>43664</td><td>778</td><td>1</td><td>8</td><td>14</td><td>1</td><td>1</td><td>4</td></tr></table>"
                    },
                    "metadata": {}
                }
            ],
            "execution_count": 2
        },
        {
            "cell_type": "markdown",
            "source": [
                "### Exercise 26\n",
                "\n",
                "From the following table write a query in SQL to find the sum, average, and number of order quantity for those orders whose ids are 43659 and 43664 and product id starting with '71'. Return SalesOrderID, OrderNumber,ProductID, OrderQty, sum, average, and number of order quantity.\n",
                "\n",
                "Sample table:\n",
                "\n",
                "Sales.SalesOrderDetail"
            ],
            "metadata": {
                "azdata_cell_guid": "f3f73643-8bbb-4ac6-adb8-af474fa5f1ca"
            },
            "attachments": {}
        },
        {
            "cell_type": "code",
            "source": [
                ""
            ],
            "metadata": {
                "azdata_cell_guid": "74bef362-dd0a-4b44-ace4-5a59db16f8e1",
                "language": "sql"
            },
            "outputs": [],
            "execution_count": null
        },
        {
            "cell_type": "markdown",
            "source": [
                "### Exercise 27\n",
                "\n",
                "From the following table write a query in SQL to retrieve the total cost of each salesorderID that exceeds 100000. Return SalesOrderID, total cost.\n",
                "\n",
                "Sample table:\n",
                "\n",
                "Sales.SalesOrderDetail"
            ],
            "metadata": {
                "azdata_cell_guid": "a1447f08-dd25-4518-8610-30617177b63c"
            },
            "attachments": {}
        },
        {
            "cell_type": "code",
            "source": [
                ""
            ],
            "metadata": {
                "azdata_cell_guid": "4303a965-9514-4f3d-b878-da5e41902c46",
                "language": "sql"
            },
            "outputs": [],
            "execution_count": null
        },
        {
            "cell_type": "markdown",
            "source": [
                "### Exercise 28\n",
                "\n",
                "From the following table write a query in SQL to retrieve products whose names start with 'Lock Washer'. Return product ID, and name and order the result set in ascending order on product ID column.\n",
                "\n",
                "Sample table:\n",
                "\n",
                "Production.Product"
            ],
            "metadata": {
                "azdata_cell_guid": "c893718b-4eb3-46a3-bffc-ba5925113543"
            },
            "attachments": {}
        },
        {
            "cell_type": "code",
            "source": [
                ""
            ],
            "metadata": {
                "azdata_cell_guid": "0300869d-f369-4115-8da3-7b0ec93caa51",
                "language": "sql"
            },
            "outputs": [],
            "execution_count": null
        },
        {
            "cell_type": "markdown",
            "source": [
                "### Exercise 29\n",
                "\n",
                "Write a query in SQL to fetch rows from product table and order the result set on an unspecified column listprice. Return product ID, name, and color of the product.\n",
                "\n",
                "Sample table:\n",
                "\n",
                "Production.Product"
            ],
            "metadata": {
                "azdata_cell_guid": "dc65dc08-226c-4f63-b8e8-273564c26c46"
            },
            "attachments": {}
        },
        {
            "cell_type": "code",
            "source": [
                ""
            ],
            "metadata": {
                "azdata_cell_guid": "c99997c3-056d-40f1-a07b-94e26fdc72b9",
                "language": "sql"
            },
            "outputs": [],
            "execution_count": null
        },
        {
            "cell_type": "markdown",
            "source": [
                "### Exercise 30\n",
                "\n",
                "From the following table write a query in SQL to retrieve records of employees. Order the output on year (default ascending order) of hiredate. Return BusinessEntityID, JobTitle, and HireDate.\n",
                "\n",
                "Sample table:\n",
                "\n",
                "HumanResources.Employee"
            ],
            "metadata": {
                "azdata_cell_guid": "effa1e5e-e094-48f1-b1ea-af4bf660974f"
            },
            "attachments": {}
        },
        {
            "cell_type": "code",
            "source": [
                ""
            ],
            "metadata": {
                "azdata_cell_guid": "298d4aa5-0ccc-4a31-923e-6786f39ef4f4",
                "language": "sql"
            },
            "outputs": [],
            "execution_count": null
        }
    ]
}