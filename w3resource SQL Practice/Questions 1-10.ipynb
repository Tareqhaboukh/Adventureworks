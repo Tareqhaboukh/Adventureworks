{
    "metadata": {
        "kernelspec": {
            "name": "SQL",
            "display_name": "SQL",
            "language": "sql"
        },
        "language_info": {
            "name": "sql",
            "version": ""
        }
    },
    "nbformat_minor": 2,
    "nbformat": 4,
    "cells": [
        {
            "cell_type": "markdown",
            "source": [
                "## Question 1\r\n",
                "From the following table write a query in SQL to retrieve all rows and columns from the employee table in the Adventureworks database. Sort the result set in ascending order on jobtitle.\r\n",
                "\r\n",
                "Sample table: humanresources.employee"
            ],
            "metadata": {
                "language": "sql",
                "azdata_cell_guid": "0d5df183-8b84-41ae-9f47-798bc4284d2d"
            },
            "attachments": {}
        },
        {
            "cell_type": "code",
            "source": [
                "SELECT *\r\n",
                "FROM humanresources.employee\r\n",
                "ORDER BY JobTitle;"
            ],
            "metadata": {
                "azdata_cell_guid": "ef0a2e54-236d-45b4-8f83-bdcdd7f25a60",
                "language": "sql",
                "tags": []
            },
            "outputs": [
                {
                    "output_type": "error",
                    "ename": "",
                    "evalue": "Msg 208, Level 16, State 1, Line 1\r\nInvalid object name 'humanresources.employee'.",
                    "traceback": []
                },
                {
                    "output_type": "display_data",
                    "data": {
                        "text/html": "Total execution time: 00:00:00.002"
                    },
                    "metadata": {}
                }
            ],
            "execution_count": 5
        },
        {
            "cell_type": "markdown",
            "source": [
                "## Question 2\r\n",
                "From the following table write a query in SQL to retrieve all rows and columns from the employee table using table aliasing in the Adventureworks database. Sort the output in ascending order on lastname.\r\n",
                "\r\n",
                "Sample table: person.person"
            ],
            "metadata": {
                "language": "sql",
                "azdata_cell_guid": "f1a1cab6-5534-4de8-ba49-adb231b9d24a"
            },
            "attachments": {}
        },
        {
            "cell_type": "code",
            "source": [
                "SELECT Q2.*\r\n",
                "FROM Person.Person AS Q2\r\n",
                "ORDER BY LastName;"
            ],
            "metadata": {
                "language": "sql",
                "azdata_cell_guid": "e1e2e747-7ac7-4efe-9180-a9507a90f6a6"
            },
            "outputs": [],
            "execution_count": null
        },
        {
            "cell_type": "markdown",
            "source": [
                "## Question 3\r\n",
                "From the following table write a query in SQL to return all rows and a subset of the columns (FirstName, LastName, businessentityid) from the person table in the AdventureWorks database. The third column heading is renamed to Employee_id. Arranged the output in ascending order by lastname.\r\n",
                "\r\n",
                "Sample table: person.person"
            ],
            "metadata": {
                "language": "sql",
                "azdata_cell_guid": "ec75896a-b8f1-49b9-81cc-3c0fde0fe97d"
            },
            "attachments": {}
        },
        {
            "cell_type": "code",
            "source": [
                "SELECT FirstName, LastName, BusinessEntityID AS Employee_id\r\n",
                "FROM Person.Person\r\n",
                "ORDER BY LastName;"
            ],
            "metadata": {
                "language": "sql",
                "azdata_cell_guid": "ce5b864f-12e9-4070-86db-10e8c30e94f7"
            },
            "outputs": [],
            "execution_count": null
        }
    ]
}