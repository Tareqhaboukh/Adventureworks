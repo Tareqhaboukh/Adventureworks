{
    "metadata": {
        "kernelspec": {
            "name": "SQL",
            "display_name": "SQL",
            "language": "sql"
        },
        "language_info": {
            "name": "sql",
            "version": ""
        }
    },
    "nbformat_minor": 2,
    "nbformat": 4,
    "cells": [
        {
            "cell_type": "markdown",
            "source": [
                "### Question 1\r\n",
                "From the following table write a query in SQL to retrieve all rows and columns from the employee table in the Adventureworks database. Sort the result set in ascending order on jobtitle.\r\n",
                "\r\n",
                "Sample table: humanresources.employee"
            ],
            "metadata": {
                "language": "sql",
                "azdata_cell_guid": "0d5df183-8b84-41ae-9f47-798bc4284d2d"
            },
            "attachments": {}
        },
        {
            "cell_type": "code",
            "source": [
                "SELECT *\r\n",
                "FROM humanresources.employee\r\n",
                "ORDER BY JobTitle;"
            ],
            "metadata": {
                "azdata_cell_guid": "ef0a2e54-236d-45b4-8f83-bdcdd7f25a60",
                "language": "sql",
                "tags": []
            },
            "outputs": [],
            "execution_count": 1
        },
        {
            "cell_type": "markdown",
            "source": [
                "### Question 2\r\n",
                "From the following table write a query in SQL to retrieve all rows and columns from the employee table using table aliasing in the Adventureworks database. Sort the output in ascending order on lastname.\r\n",
                "\r\n",
                "Sample table: person.person"
            ],
            "metadata": {
                "language": "sql",
                "azdata_cell_guid": "f1a1cab6-5534-4de8-ba49-adb231b9d24a"
            },
            "attachments": {}
        },
        {
            "cell_type": "code",
            "source": [
                "SELECT Q2.*\r\n",
                "FROM Person.Person AS Q2\r\n",
                "ORDER BY LastName;"
            ],
            "metadata": {
                "language": "sql",
                "azdata_cell_guid": "e1e2e747-7ac7-4efe-9180-a9507a90f6a6"
            },
            "outputs": [],
            "execution_count": null
        },
        {
            "cell_type": "markdown",
            "source": [
                "### Question 3\r\n",
                "From the following table write a query in SQL to return all rows and a subset of the columns (FirstName, LastName, businessentityid) from the person table in the AdventureWorks database. The third column heading is renamed to Employee_id. Arranged the output in ascending order by lastname.\r\n",
                "\r\n",
                "Sample table: person.person"
            ],
            "metadata": {
                "language": "sql",
                "azdata_cell_guid": "ec75896a-b8f1-49b9-81cc-3c0fde0fe97d"
            },
            "attachments": {}
        },
        {
            "cell_type": "code",
            "source": [
                "SELECT FirstName\r\n",
                "    , LastName\r\n",
                "    , BusinessEntityID AS Employee_id\r\n",
                "FROM Person.Person\r\n",
                "ORDER BY LastName;"
            ],
            "metadata": {
                "language": "sql",
                "azdata_cell_guid": "ce5b864f-12e9-4070-86db-10e8c30e94f7"
            },
            "outputs": [],
            "execution_count": null
        },
        {
            "cell_type": "markdown",
            "source": [
                "### Question 4\n",
                "From the following table write a query in SQL to return only the rows for product that have a sellstartdate that is not NULL and a productline of 'T'. Return productid, productnumber, and name. Arranged the output in ascending order on name.\n",
                "\n",
                "Sample table: production.product"
            ],
            "metadata": {
                "azdata_cell_guid": "7935b77d-0fe1-47a5-aea2-87d561ef1e61"
            },
            "attachments": {}
        },
        {
            "cell_type": "code",
            "source": [
                "SELECT ProductID\r\n",
                "    , ProductNumber\r\n",
                "    , Name\r\n",
                "FROM Production.Product\r\n",
                "WHERE SellStartDate IS NOT NULL\r\n",
                "    AND ProductLine = 'T'\r\n",
                "ORDER BY Name;"
            ],
            "metadata": {
                "azdata_cell_guid": "5045c59f-121b-4a76-a863-9e457d8ce877",
                "language": "sql"
            },
            "outputs": [],
            "execution_count": null
        },
        {
            "cell_type": "markdown",
            "source": [
                "### Question 5\r\n",
                "From the following table write a query in SQL to return all rows from the salesorderheader table in Adventureworks database and calculate the percentage of tax on the subtotal have decided. Return salesorderid, customerid, orderdate, subtotal, percentage of tax column. Arranged the result set in ascending order on subtotal.\r\n",
                "\r\n",
                "Sample table: sales.salesorderheader"
            ],
            "metadata": {
                "language": "sql",
                "azdata_cell_guid": "41634ff6-964f-43aa-a28d-d4c62d9f45fc"
            },
            "attachments": {}
        },
        {
            "cell_type": "code",
            "source": [
                "SELECT SalesOrderID\r\n",
                "    , CustomerID\r\n",
                "    , OrderDate\r\n",
                "    , SubTotal\r\n",
                "    , (TaxAmt / SubTotal) * 100 AS TaxPercent\r\n",
                "FROM Sales.SalesOrderHeader\r\n",
                "ORDER BY SubTotal DESC;"
            ],
            "metadata": {
                "language": "sql",
                "azdata_cell_guid": "e28347bf-e4ce-4dd7-abc5-d81648d9af22"
            },
            "outputs": [],
            "execution_count": null
        },
        {
            "cell_type": "markdown",
            "source": [
                "### Question 6\r\n",
                "From the following table write a query in SQL to create a list of unique jobtitles in the employee table in Adventureworks database. Return jobtitle column and arranged the resultset in ascending order.\r\n",
                "\r\n",
                "Sample table: humanresources.employee"
            ],
            "metadata": {
                "language": "sql",
                "azdata_cell_guid": "b334c1e7-e35d-430a-af87-b0b58dec4fe2"
            },
            "attachments": {}
        },
        {
            "cell_type": "code",
            "source": [
                "SELECT DISTINCT JobTitle\r\n",
                "FROM HumanResources.Employee\r\n",
                "ORDER BY JobTitle;"
            ],
            "metadata": {
                "language": "sql",
                "azdata_cell_guid": "f7186c0d-0522-4bdc-b356-6b8d65be3eb1"
            },
            "outputs": [],
            "execution_count": null
        },
        {
            "cell_type": "markdown",
            "source": [
                "### Question 7\r\n",
                "From the following table write a query in SQL to calculate the total freight paid by each customer. Return customerid and total freight. Sort the output in ascending order on customerid.\r\n",
                "\r\n",
                "Sample table: sales.salesorderheader"
            ],
            "metadata": {
                "language": "sql",
                "azdata_cell_guid": "fe2cb772-ff93-4ae4-ad78-f45c2b7c2e4a"
            },
            "attachments": {}
        },
        {
            "cell_type": "code",
            "source": [
                "SELECT CustomerID\r\n",
                "    , SUM(Freight) AS TotalFreight\r\n",
                "FROM Sales.SalesOrderHeader\r\n",
                "GROUP BY CustomerID\r\n",
                "ORDER BY CustomerID;"
            ],
            "metadata": {
                "language": "sql",
                "azdata_cell_guid": "de83b47a-56a1-44e9-b9ec-b22727d19b02",
                "tags": []
            },
            "outputs": [],
            "execution_count": null
        },
        {
            "cell_type": "markdown",
            "source": [
                "### Question 8\r\n",
                "From the following table write a query in SQL to find the average and the sum of the subtotal for every customer. Return customerid, average and sum of the subtotal. Grouped the result on customerid and salespersonid. Sort the result on customerid column in descending order.\r\n",
                "\r\n",
                "Sample table: sales.salesorderheader"
            ],
            "metadata": {
                "language": "sql",
                "azdata_cell_guid": "879ea46b-1005-46c2-be12-8301de6aa597"
            },
            "attachments": {}
        },
        {
            "cell_type": "code",
            "source": [
                "SELECT CustomerID\r\n",
                "    , SalesPersonID\r\n",
                "    , AVG(SubTotal) AS AvgSubTotal\r\n",
                "    , SUM(SubTotal) AS SumSubTotal\r\n",
                "FROM Sales.SalesOrderHeader\r\n",
                "GROUP BY CustomerID\r\n",
                "    , SalesPersonID\r\n",
                "ORDER BY CustomerID DESC;"
            ],
            "metadata": {
                "language": "sql",
                "azdata_cell_guid": "0dcc8313-09bc-44e5-afb3-b6787c9e587d"
            },
            "outputs": [],
            "execution_count": null
        },
        {
            "cell_type": "markdown",
            "source": [
                "### Question 9\r\n",
                "From the following table write a query in SQL to retrieve total quantity of each productid which are in shelf of 'A' or 'C' or 'H'. Filter the results for sum quantity is more than 500. Return productid and sum of the quantity. Sort the results according to the productid in ascending order.\r\n",
                "\r\n",
                "Sample table: production.productinventory"
            ],
            "metadata": {
                "language": "sql",
                "azdata_cell_guid": "9c9c6649-aa12-422f-9767-527037692d10"
            },
            "attachments": {}
        },
        {
            "cell_type": "code",
            "source": [
                "SELECT ProductID\r\n",
                "    , SUM(Quantity) AS TotalQuantity\r\n",
                "FROM Production.ProductInventory\r\n",
                "WHERE Shelf IN ('A', 'C', 'H')\r\n",
                "GROUP BY ProductID\r\n",
                "HAVING SUM(Quantity) > 500\r\n",
                "ORDER BY ProductID;"
            ],
            "metadata": {
                "language": "sql",
                "azdata_cell_guid": "f551d2d2-63b7-4d8e-b64c-e17244464d08"
            },
            "outputs": [],
            "execution_count": null
        },
        {
            "cell_type": "markdown",
            "source": [
                "### Question 10\r\n",
                "From the following table write a query in SQL to find the total quantity for a group of locationid multiplied by 10.\r\n",
                "\r\n",
                "Sample table: production.productinventory"
            ],
            "metadata": {
                "language": "sql",
                "azdata_cell_guid": "bbf8574b-fe2b-4edb-b2d3-cee1e0be41c0"
            },
            "attachments": {}
        },
        {
            "cell_type": "code",
            "source": [
                "SELECT SUM(Quantity) AS TotalQuantity\r\n",
                "FROM Production.ProductInventory\r\n",
                "GROUP BY (LocationID * 10);"
            ],
            "metadata": {
                "language": "sql",
                "azdata_cell_guid": "2ac197a4-c74f-4eca-9786-04bc54405288",
                "tags": []
            },
            "outputs": [],
            "execution_count": null
        },
        {
            "cell_type": "markdown",
            "source": [
                "### Question 11\r\n",
                "From the following tables write a query in SQL to find the persons whose last name starts with letter 'L'. Return BusinessEntityID, FirstName, LastName, and PhoneNumber. Sort the result on lastname and firstname.\r\n",
                "\r\n",
                "Sample table: Person.PersonPhone"
            ],
            "metadata": {
                "azdata_cell_guid": "7c06f676-2f2b-46e1-866a-f502f9d0b36e"
            },
            "attachments": {}
        },
        {
            "cell_type": "code",
            "source": [
                ""
            ],
            "metadata": {
                "azdata_cell_guid": "76a6244e-32fe-4e2a-add4-ad20ec221e82",
                "language": "sql"
            },
            "outputs": [],
            "execution_count": null
        },
        {
            "cell_type": "markdown",
            "source": [
                "### Question 12\r\n",
                "From the following table write a query in SQL to find the sum of subtotal column. Group the sum on distinct salespersonid and customerid. Rolls up the results into subtotal and running total. Return salespersonid, customerid and sum of subtotal column i.e. sum_subtotal.\r\n",
                "\r\n",
                "Sample table: sales.salesorderheader"
            ],
            "metadata": {
                "azdata_cell_guid": "703f7c98-4013-40a6-bfb8-8ecc7f25c0e3"
            },
            "attachments": {}
        },
        {
            "cell_type": "code",
            "source": [
                ""
            ],
            "metadata": {
                "azdata_cell_guid": "161e77be-b909-46ba-bac9-6e9924145e67",
                "language": "sql"
            },
            "outputs": [],
            "execution_count": null
        },
        {
            "cell_type": "markdown",
            "source": [
                "### Question 13\r\n",
                "From the following table write a query in SQL to find the sum of the quantity of all combination of group of distinct locationid and shelf column. Return locationid, shelf and sum of quantity as TotalQuantity.\r\n",
                "\r\n",
                "Sample table: production.productinventory"
            ],
            "metadata": {
                "azdata_cell_guid": "9c084569-5942-4416-9a4f-20a0f9e42e53"
            },
            "attachments": {}
        },
        {
            "cell_type": "code",
            "source": [
                ""
            ],
            "metadata": {
                "azdata_cell_guid": "87d9cdd0-3e06-4340-856b-a52851ee2862",
                "language": "sql"
            },
            "outputs": [],
            "execution_count": null
        },
        {
            "cell_type": "markdown",
            "source": [
                "### Question 14\r\n",
                "From the following table write a query in SQL to find the sum of the quantity with subtotal for each locationid. Group the results for all combination of distinct locationid and shelf column. Rolls up the results into subtotal and running total. Return locationid, shelf and sum of quantity as TotalQuantity.\r\n",
                "\r\n",
                "Sample table: production.productinventory"
            ],
            "metadata": {
                "azdata_cell_guid": "05f9f19d-a536-4662-9294-5bb865644338"
            },
            "attachments": {}
        },
        {
            "cell_type": "code",
            "source": [
                ""
            ],
            "metadata": {
                "azdata_cell_guid": "f0b3ea68-d698-4af7-9a48-e071b12ecbb5",
                "language": "sql"
            },
            "outputs": [],
            "execution_count": null
        },
        {
            "cell_type": "markdown",
            "source": [
                "### Question 15\r\n",
                "From the following table write a query in SQL to find the total quantity for each locationid and calculate the grand-total for all locations. Return locationid and total quantity. Group the results on locationid.\r\n",
                "\r\n",
                "Sample table: production.productinventory"
            ],
            "metadata": {
                "azdata_cell_guid": "ce434456-5a45-4078-b3ef-f56d66ba5424"
            },
            "attachments": {}
        },
        {
            "cell_type": "code",
            "source": [
                ""
            ],
            "metadata": {
                "azdata_cell_guid": "aa544610-20c5-4c50-aec1-651f3350fd52",
                "language": "sql"
            },
            "outputs": [],
            "execution_count": null
        },
        {
            "cell_type": "markdown",
            "source": [
                "### Question 16\r\n",
                "From the following table write a query in SQL to retrieve the number of employees for each City. Return city and number of employees. Sort the result in ascending order on city.\r\n",
                "\r\n",
                "Sample table: Person.BusinessEntityAddress"
            ],
            "metadata": {
                "azdata_cell_guid": "53fd3b46-de56-4d57-ae95-db6f99a3fbcb"
            },
            "attachments": {}
        },
        {
            "cell_type": "code",
            "source": [
                ""
            ],
            "metadata": {
                "azdata_cell_guid": "23cf5dd7-a05d-4f26-ab47-3af21fa96afe",
                "language": "sql"
            },
            "outputs": [],
            "execution_count": null
        },
        {
            "cell_type": "markdown",
            "source": [
                "### Question 17\r\n",
                "From the following table write a query in SQL to retrieve the total sales for each year. Return the year part of order date and total due amount. Sort the result in ascending order on year part of order date.\r\n",
                "\r\n",
                "Sample table: Sales.SalesOrderHeader"
            ],
            "metadata": {
                "azdata_cell_guid": "ea806d55-f76f-4266-aa56-e1c556db63be"
            },
            "attachments": {}
        },
        {
            "cell_type": "code",
            "source": [
                ""
            ],
            "metadata": {
                "azdata_cell_guid": "71a0bc43-b89e-4a8d-8197-43b367213e99",
                "language": "sql"
            },
            "outputs": [],
            "execution_count": null
        },
        {
            "cell_type": "markdown",
            "source": [
                "### Question 18\r\n",
                "From the following table write a query in SQL to retrieve the total sales for each year. Filter the result set for those orders where order year is on or before 2016. Return the year part of orderdate and total due amount. Sort the result in ascending order on year part of order date.\r\n",
                "\r\n",
                "Sample table: Sales.SalesOrderHeader"
            ],
            "metadata": {
                "azdata_cell_guid": "f378004e-2e9c-4f12-a75e-f4e8d78a9a6f"
            },
            "attachments": {}
        },
        {
            "cell_type": "code",
            "source": [
                ""
            ],
            "metadata": {
                "azdata_cell_guid": "bddbb6fb-6698-4e4c-b0f4-9eb6f19ff960",
                "language": "sql"
            },
            "outputs": [],
            "execution_count": null
        },
        {
            "cell_type": "markdown",
            "source": [
                "### Question 19\r\n",
                "From the following table write a query in SQL to find the contacts who are designated as a manager in various departments. Returns ContactTypeID, name. Sort the result set in descending order.\r\n",
                "\r\n",
                "Sample table: Person.ContactType"
            ],
            "metadata": {
                "azdata_cell_guid": "d4767838-77dc-4dda-982e-7ad5147ec38d"
            },
            "attachments": {}
        },
        {
            "cell_type": "code",
            "source": [
                ""
            ],
            "metadata": {
                "azdata_cell_guid": "dc08c900-7a53-4a53-830a-0600ba13a265",
                "language": "sql"
            },
            "outputs": [],
            "execution_count": null
        },
        {
            "cell_type": "markdown",
            "source": [
                "### Question 20\r\n",
                "From the following tables write a query in SQL to make a list of contacts who are designated as 'Purchasing Manager'. Return BusinessEntityID, LastName, and FirstName columns. Sort the result set in ascending order of LastName, and FirstName.\r\n",
                "\r\n",
                "Sample table: Person.BusinessEntityContact"
            ],
            "metadata": {
                "azdata_cell_guid": "94133ab4-56d8-4819-9271-13a1ecdcde20"
            },
            "attachments": {}
        },
        {
            "cell_type": "code",
            "source": [
                ""
            ],
            "metadata": {
                "azdata_cell_guid": "6b6559a8-d3ec-4c01-a14a-857e30e9207e",
                "language": "sql"
            },
            "outputs": [],
            "execution_count": null
        }
    ]
}